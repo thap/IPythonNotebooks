{
 "metadata": {
  "name": "",
  "signature": "sha256:5af680f769a7443781731b5265d3497c8f55fbcd61f948ee3be6a9ac5f73f8ed"
 },
 "nbformat": 3,
 "nbformat_minor": 0,
 "worksheets": [
  {
   "cells": [
    {
     "cell_type": "code",
     "collapsed": false,
     "input": [
      "print \"Hello World!\"\n",
      "print \"Hello Again\"\n",
      "print \"I like typing this.\"\n",
      "print \"This is fun.\"\n",
      "print 'Yay! Printing.'\n",
      "print \"I'd much rather you 'not'.\"\n",
      "print 'I \"said\" do not touch this.'"
     ],
     "language": "python",
     "metadata": {},
     "outputs": [
      {
       "output_type": "stream",
       "stream": "stdout",
       "text": [
        "Hello World!\n",
        "Hello Again\n",
        "I like typing this.\n",
        "This is fun.\n",
        "Yay! Printing.\n",
        "I'd much rather you 'not'.\n",
        "I \"said\" do not touch this.\n"
       ]
      }
     ],
     "prompt_number": 2
    },
    {
     "cell_type": "code",
     "collapsed": false,
     "input": [
      "# A comment, this is so you can read your program later.\n",
      "# Anything after the # is ignored by python.\n",
      "\n",
      "print \"I could have code like this.\" # and the comment after is ignored\n",
      "\n",
      "# You can also use a comment to \"disable\" or comment out a piece of code:\n",
      "# print \"This won't run.\"\n",
      "\n",
      "print \"This will run.\""
     ],
     "language": "python",
     "metadata": {},
     "outputs": [
      {
       "output_type": "stream",
       "stream": "stdout",
       "text": [
        "I could have code like this.\n",
        "This will run.\n"
       ]
      }
     ],
     "prompt_number": 3
    },
    {
     "cell_type": "code",
     "collapsed": false,
     "input": [
      "print \"I will now count my chickens:\"\n",
      "\n",
      "print \"Hens\", 25 + 30 / 6\n",
      "print \"Roosters\", 100 - 25 * 3 % 4\n",
      "\n",
      "print \"Now I will count the eggs:\"\n",
      "\n",
      "print 3 + 2 + 1 - 5 + 4 % 2 -1 / 4 + 6\n",
      "\n",
      "print \"Is it true that 3 + 2 < 5 - 7?\"\n",
      "\n",
      "print 3 + 2 < 5 - 7\n",
      "\n",
      "print \"What is 3 + 2?\", 3 + 2\n",
      "print \"What is 5 - 7?\", 5 - 7\n",
      "\n",
      "print \"Oh, that's why it's False.\"\n",
      "\n",
      "print \"How about some more.\"\n",
      "\n",
      "print \"Is it greater?\", 5 > -2\n",
      "print \"Is it greater or equal?\", 5 >= -2\n",
      "print \"Is it less or equal?\", 5 <= -2"
     ],
     "language": "python",
     "metadata": {},
     "outputs": [
      {
       "output_type": "stream",
       "stream": "stdout",
       "text": [
        "I will now count my chickens:\n",
        "Hens 30\n",
        "Roosters 97\n",
        "Now I will count the eggs:\n",
        "7\n",
        "Is it true that 3 + 2 < 5 - 7?\n",
        "False\n",
        "What is 3 + 2? 5\n",
        "What is 5 - 7? -2\n",
        "Oh, that's why it's False.\n",
        "How about some more.\n",
        "Is it greater? True\n",
        "Is it greater or equal? True\n",
        "Is it less or equal? False\n"
       ]
      }
     ],
     "prompt_number": 5
    },
    {
     "cell_type": "code",
     "collapsed": false,
     "input": [
      "cars = 100\n",
      "space_in_a_car = 4.0\n",
      "drivers = 30\n",
      "passengers = 90\n",
      "cars_not_driven = cars - drivers\n",
      "cars_driven = drivers\n",
      "carpool_capacity = cars_driven * space_in_a_car\n",
      "average_passengers_per_car = passengers / cars_driven\n",
      "\n",
      "print \"There are\", cars, \"cars available.\"\n",
      "print \"There are only\", drivers, \"drivers available.\"\n",
      "print \"There will be\", cars_not_driven, \"empty cars today.\"\n",
      "print \"We can transport\", carpool_capacity, \"people today.\"\n",
      "print \"We have\", passengers, \"to carpool today.\"\n",
      "print \"We need to put about\", average_passengers_per_car, \"in each car.\""
     ],
     "language": "python",
     "metadata": {},
     "outputs": [
      {
       "output_type": "stream",
       "stream": "stdout",
       "text": [
        "There are 100 cars available.\n",
        "There are only 30 drivers available.\n",
        "There will be 70 empty cars today.\n",
        "We can transport 120.0 people today.\n",
        "We have 90 to carpool today.\n",
        "We need to put about 3 in each car.\n"
       ]
      }
     ],
     "prompt_number": 6
    },
    {
     "cell_type": "code",
     "collapsed": false,
     "input": [
      "my_name = \"Nguyen Minh Thap\"\n",
      "my_age = 26 # not a lie\n",
      "my_height = 70 # inches\n",
      "my_weight = 150 # lbs\n",
      "my_eyes = \"Dark Brown\"\n",
      "my_teeth = \"White\"\n",
      "my_hair = \"Black\"\n",
      "\n",
      "print \"Let's talk about %s.\" % my_name\n",
      "print \"He's %d inches tall.\" % my_height\n",
      "print \"He's %d pounds heavy.\" % my_weight\n",
      "print \"Actually that's not too heavy.\"\n",
      "print \"He's got %s eyes and %s hair.\" % (my_eyes, my_hair)\n",
      "print \"His teeth are usually %s depending on the coffee.\" % my_teeth\n",
      "\n",
      "# this line is tricky, try to get it exactly right\n",
      "print \"If I add %d, %d, and %d I get %d.\" % (\n",
      "    my_age, my_height, my_weight, my_age + my_height + my_weight)"
     ],
     "language": "python",
     "metadata": {},
     "outputs": [
      {
       "output_type": "stream",
       "stream": "stdout",
       "text": [
        "Let's talk about Nguyen Minh Thap.\n",
        "He's 70 inches tall.\n",
        "He's 150 pounds heavy.\n",
        "Actually that's not too heavy.\n",
        "He's got Dark Brown eyes and Black hair.\n",
        "His teeth are usually White depending on the coffee.\n",
        "If I add 26, 70, and 150 I get 246.\n"
       ]
      }
     ],
     "prompt_number": 8
    },
    {
     "cell_type": "code",
     "collapsed": false,
     "input": [
      "x = \"There are %d types of people.\" % 10\n",
      "binary = \"binary\"\n",
      "do_not = \"don't\"\n",
      "y = \"Those who know %s and thos who %s.\" % (binary, do_not)\n",
      "\n",
      "print x\n",
      "print y\n",
      "\n",
      "print \"I said: %r.\" % x\n",
      "print \"I also said: '%s'.\" % y\n",
      "\n",
      "hilarious = False\n",
      "joke_evaluation = \"Isn't that joke so funny?! %r\"\n",
      "\n",
      "print joke_evaluation % hilarious\n",
      "\n",
      "w = \"This is the left side of...\"\n",
      "e = \"a tring with a right side.\"\n",
      "\n",
      "print w + e"
     ],
     "language": "python",
     "metadata": {},
     "outputs": [
      {
       "output_type": "stream",
       "stream": "stdout",
       "text": [
        "There are 10 types of people.\n",
        "Those who know binary and thos who don't.\n",
        "I said: 'There are 10 types of people.'.\n",
        "I also said: 'Those who know binary and thos who don't.'.\n",
        "Isn't that joke so funny?! False\n",
        "This is the left side of...a tring with a right side.\n"
       ]
      }
     ],
     "prompt_number": 9
    },
    {
     "cell_type": "code",
     "collapsed": false,
     "input": [
      "print \"Mary had a little lamb.\"\n",
      "print \"Its fleece was white as %s.\" % 'snow'\n",
      "print \"And everywhere that Mary went.\"\n",
      "print \".\" * 10 # what'd that do?\n",
      "\n",
      "end1 = \"C\"\n",
      "end2 = \"h\"\n",
      "end3 = \"e\"\n",
      "end4 = \"e\"\n",
      "end5 = \"s\"\n",
      "end6 = \"e\"\n",
      "end7 = \"B\"\n",
      "end8 = \"u\"\n",
      "end9 = \"r\"\n",
      "end10 = \"g\"\n",
      "end11 = \"e\"\n",
      "end12 = \"r\"\n",
      "\n",
      "# watch that comma at the end. try removing it to se what happens\n",
      "print end1 + end2 + end3 + end4 + end5 + end6,\n",
      "print end7 + end8 + end9 + end10 + end11 + end12"
     ],
     "language": "python",
     "metadata": {},
     "outputs": [
      {
       "output_type": "stream",
       "stream": "stdout",
       "text": [
        "Mary had a little lamb.\n",
        "Its fleece was white as snow.\n",
        "And everywhere that Mary went.\n",
        "..........\n",
        "Cheese Burger\n"
       ]
      }
     ],
     "prompt_number": 10
    },
    {
     "cell_type": "code",
     "collapsed": false,
     "input": [
      "formatter = \"%r %r %r %r\"\n",
      "\n",
      "print formatter % (1, 2, 3, 4)\n",
      "print formatter % (\"one\", \"two\", \"three\", \"four\")\n",
      "print formatter % (True, False, False, True)\n",
      "print formatter % (formatter, formatter, formatter, formatter)\n",
      "print formatter % (\n",
      "    \"I had this thing.\",\n",
      "    \"That you could type up right.\",\n",
      "    \"But it didn't sing.\",\n",
      "    \"So I said goodnight.\"\n",
      ")"
     ],
     "language": "python",
     "metadata": {},
     "outputs": [
      {
       "output_type": "stream",
       "stream": "stdout",
       "text": [
        "1 2 3 4\n",
        "'one' 'two' 'three' 'four'\n",
        "True False False True\n",
        "'%r %r %r %r' '%r %r %r %r' '%r %r %r %r' '%r %r %r %r'\n",
        "'I had this thing.' 'That you could type up right.' \"But it didn't sing.\" 'So I said goodnight.'\n"
       ]
      }
     ],
     "prompt_number": 11
    },
    {
     "cell_type": "code",
     "collapsed": false,
     "input": [
      "days = \"Mon Tue Wed Thu Fri Sat Sun\"\n",
      "months = \"Jan\\nFeb\\nMar\\nApr\\nMay\\nJun\\nJul\\nAug\"\n",
      "\n",
      "print \"Here are the days:\", days\n",
      "print \"Here are the months:\", months\n",
      "\n",
      "print \"\"\"\n",
      "There's something going on here.\n",
      "With the three double-quotes.\n",
      "We'll be able to type as much as we like.\n",
      "Even 4 lines if we want, or 5, or 6.\n",
      "\"\"\""
     ],
     "language": "python",
     "metadata": {},
     "outputs": [
      {
       "output_type": "stream",
       "stream": "stdout",
       "text": [
        "Here are the days: Mon Tue Wed Thu Fri Sat Sun\n",
        "Here are the months: Jan\n",
        "Feb\n",
        "Mar\n",
        "Apr\n",
        "May\n",
        "Jun\n",
        "Jul\n",
        "Aug\n",
        "\n",
        "There's something going on here.\n",
        "With the three double-quotes.\n",
        "We'll be able to type as much as we like.\n",
        "Even 4 lines if we want, or 5, or 6.\n",
        "\n"
       ]
      }
     ],
     "prompt_number": 12
    },
    {
     "cell_type": "code",
     "collapsed": false,
     "input": [
      "tabby_cat = \"\\tI'm tabbed in.\"\n",
      "persian_cat = \"I'm split\\non a line.\"\n",
      "backslash_cat = \"I'm \\\\ a \\\\ cat.\"\n",
      "\n",
      "fat_cat = \"\"\"\n",
      "I'll do a list:\n",
      "\\t* Cat food\n",
      "\\t* Fishies\n",
      "\\t* Catnip\\n\\t* Grass\n",
      "\"\"\"\n",
      "\n",
      "print tabby_cat\n",
      "print persian_cat\n",
      "print backslash_cat\n",
      "print fat_cat"
     ],
     "language": "python",
     "metadata": {},
     "outputs": [
      {
       "output_type": "stream",
       "stream": "stdout",
       "text": [
        "\tI'm tabbed in.\n",
        "I'm split\n",
        "on a line.\n",
        "I'm \\ a \\ cat.\n",
        "\n",
        "I'll do a list:\n",
        "\t* Cat food\n",
        "\t* Fishies\n",
        "\t* Catnip\n",
        "\t* Grass\n",
        "\n"
       ]
      }
     ],
     "prompt_number": 13
    },
    {
     "cell_type": "code",
     "collapsed": false,
     "input": [
      "print \"How old are you?\",\n",
      "age = raw_input()\n",
      "print \"How tall are you?\",\n",
      "height = raw_input()\n",
      "print \"How much do you weigh?\",\n",
      "weight = raw_input()\n",
      "\n",
      "print \"So, you're %r old, %r tall and %r heavy.\" % (\n",
      "    age, height, weight)"
     ],
     "language": "python",
     "metadata": {},
     "outputs": []
    },
    {
     "cell_type": "code",
     "collapsed": false,
     "input": [
      "age = raw_input(\"How old are you? \")\n",
      "height = raw_input(\"How tall are you? \")\n",
      "weight = raw_input(\"How much do you weigh? \")\n",
      "\n",
      "print \"So, you're %r old, %r tall and %r heavy.\" % (\n",
      "    age, height, weight)"
     ],
     "language": "python",
     "metadata": {},
     "outputs": [
      {
       "name": "stdout",
       "output_type": "stream",
       "stream": "stdout",
       "text": [
        "How old are you? 100\n"
       ]
      },
      {
       "name": "stdout",
       "output_type": "stream",
       "stream": "stdout",
       "text": [
        "How tall are you? 2m\n"
       ]
      },
      {
       "name": "stdout",
       "output_type": "stream",
       "stream": "stdout",
       "text": [
        "How much do you weigh? 100kg\n"
       ]
      },
      {
       "output_type": "stream",
       "stream": "stdout",
       "text": [
        "So, you're '100' old, '2m' tall and '100kg' heavy.\n"
       ]
      }
     ],
     "prompt_number": 15
    },
    {
     "cell_type": "code",
     "collapsed": false,
     "input": [],
     "language": "python",
     "metadata": {},
     "outputs": [],
     "prompt_number": 2
    },
    {
     "cell_type": "code",
     "collapsed": false,
     "input": [],
     "language": "python",
     "metadata": {},
     "outputs": []
    },
    {
     "cell_type": "code",
     "collapsed": false,
     "input": [],
     "language": "python",
     "metadata": {},
     "outputs": []
    },
    {
     "cell_type": "code",
     "collapsed": false,
     "input": [],
     "language": "python",
     "metadata": {},
     "outputs": []
    }
   ],
   "metadata": {}
  }
 ]
}